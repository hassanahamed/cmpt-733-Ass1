{
 "cells": [
  {
   "cell_type": "markdown",
   "id": "3f6f571d",
   "metadata": {},
   "source": [
    "**Question**\n",
    "\n",
    "Which topic was most discussed on 15th Jan 2023 and what was the question?"
   ]
  },
  {
   "cell_type": "code",
   "execution_count": 1,
   "id": "ea7ccc71",
   "metadata": {},
   "outputs": [
    {
     "name": "stderr",
     "output_type": "stream",
     "text": [
      "NumExpr defaulting to 8 threads.\n"
     ]
    }
   ],
   "source": [
    "from dataprep.connector import connect\n",
    "import datetime\n",
    "\n",
    "access_token = 'k2Xs7Y3PiAyLavEnBm76rg))'\n",
    "key = \"RcpYF1iaC73L1h4MleRkAQ((\"\n",
    "\n",
    "dc = connect('./config', _concurrency=20)"
   ]
  },
  {
   "cell_type": "code",
   "execution_count": 3,
   "id": "3eec7d3b",
   "metadata": {
    "scrolled": true
   },
   "outputs": [
    {
     "name": "stdout",
     "output_type": "stream",
     "text": [
      "1673769600\n",
      "1673856000\n"
     ]
    },
    {
     "data": {
      "text/html": [
       "<div>\n",
       "<style scoped>\n",
       "    .dataframe tbody tr th:only-of-type {\n",
       "        vertical-align: middle;\n",
       "    }\n",
       "\n",
       "    .dataframe tbody tr th {\n",
       "        vertical-align: top;\n",
       "    }\n",
       "\n",
       "    .dataframe thead th {\n",
       "        text-align: right;\n",
       "    }\n",
       "</style>\n",
       "<table border=\"1\" class=\"dataframe\">\n",
       "  <thead>\n",
       "    <tr style=\"text-align: right;\">\n",
       "      <th></th>\n",
       "      <th>post_id</th>\n",
       "      <th>score</th>\n",
       "      <th>comment_id</th>\n",
       "      <th>creation_date</th>\n",
       "    </tr>\n",
       "  </thead>\n",
       "  <tbody>\n",
       "    <tr>\n",
       "      <th>0</th>\n",
       "      <td>75124019</td>\n",
       "      <td>11</td>\n",
       "      <td>132569446</td>\n",
       "      <td>1673774105</td>\n",
       "    </tr>\n",
       "    <tr>\n",
       "      <th>1</th>\n",
       "      <td>75125929</td>\n",
       "      <td>10</td>\n",
       "      <td>132572581</td>\n",
       "      <td>1673794065</td>\n",
       "    </tr>\n",
       "    <tr>\n",
       "      <th>2</th>\n",
       "      <td>75130011</td>\n",
       "      <td>10</td>\n",
       "      <td>132579902</td>\n",
       "      <td>1673839993</td>\n",
       "    </tr>\n",
       "    <tr>\n",
       "      <th>3</th>\n",
       "      <td>75127458</td>\n",
       "      <td>8</td>\n",
       "      <td>132575137</td>\n",
       "      <td>1673807596</td>\n",
       "    </tr>\n",
       "    <tr>\n",
       "      <th>4</th>\n",
       "      <td>75128112</td>\n",
       "      <td>7</td>\n",
       "      <td>132576356</td>\n",
       "      <td>1673814007</td>\n",
       "    </tr>\n",
       "    <tr>\n",
       "      <th>...</th>\n",
       "      <td>...</td>\n",
       "      <td>...</td>\n",
       "      <td>...</td>\n",
       "      <td>...</td>\n",
       "    </tr>\n",
       "    <tr>\n",
       "      <th>10706</th>\n",
       "      <td>29103053</td>\n",
       "      <td>0</td>\n",
       "      <td>132579600</td>\n",
       "      <td>1673836877</td>\n",
       "    </tr>\n",
       "    <tr>\n",
       "      <th>10707</th>\n",
       "      <td>75078910</td>\n",
       "      <td>0</td>\n",
       "      <td>132579601</td>\n",
       "      <td>1673836879</td>\n",
       "    </tr>\n",
       "    <tr>\n",
       "      <th>10708</th>\n",
       "      <td>75129747</td>\n",
       "      <td>0</td>\n",
       "      <td>132579602</td>\n",
       "      <td>1673836912</td>\n",
       "    </tr>\n",
       "    <tr>\n",
       "      <th>10709</th>\n",
       "      <td>75129136</td>\n",
       "      <td>0</td>\n",
       "      <td>132579603</td>\n",
       "      <td>1673836919</td>\n",
       "    </tr>\n",
       "    <tr>\n",
       "      <th>10710</th>\n",
       "      <td>75129599</td>\n",
       "      <td>0</td>\n",
       "      <td>132579408</td>\n",
       "      <td>1673834824</td>\n",
       "    </tr>\n",
       "  </tbody>\n",
       "</table>\n",
       "<p>10711 rows × 4 columns</p>\n",
       "</div>"
      ],
      "text/plain": [
       "        post_id  score  comment_id  creation_date\n",
       "0      75124019     11   132569446     1673774105\n",
       "1      75125929     10   132572581     1673794065\n",
       "2      75130011     10   132579902     1673839993\n",
       "3      75127458      8   132575137     1673807596\n",
       "4      75128112      7   132576356     1673814007\n",
       "...         ...    ...         ...            ...\n",
       "10706  29103053      0   132579600     1673836877\n",
       "10707  75078910      0   132579601     1673836879\n",
       "10708  75129747      0   132579602     1673836912\n",
       "10709  75129136      0   132579603     1673836919\n",
       "10710  75129599      0   132579408     1673834824\n",
       "\n",
       "[10711 rows x 4 columns]"
      ]
     },
     "execution_count": 3,
     "metadata": {},
     "output_type": "execute_result"
    }
   ],
   "source": [
    "\n",
    "\n",
    "# Config is the folder which contains all the JSON files\n",
    "# Connection request along with supplyin the access key\n",
    "\n",
    "\n",
    "start_date_epoch = datetime.datetime(2023, 1, 15, 0, 0, 0).strftime('%s')\n",
    "end_date_epoch = datetime.datetime(2023, 1, 16, 0, 0, 0).strftime('%s')\n",
    "\n",
    "print(start_date_epoch)\n",
    "print(end_date_epoch)\n",
    "\n",
    "df = await dc.query('comments', _count=1000000, _auth={'access_token': access_token}, site='stackoverflow', key=key, sort='votes', fromdate=start_date_epoch, todate=end_date_epoch)\n",
    "df.shape[0]\n",
    "df\n",
    "# df['most_discussed'] = df[\"view_count\"] + df[\"answer_count\"] + df[\"score\"]\n",
    "\n",
    "# for index, row in df.iterrows():\n",
    "#     df['most_discussed'] = df[\"most_discussed\"] + get_answer_count(df['question_id'])\n",
    "\n",
    "# df = await dc.query('comments', _count=1000, _auth={'access_token': access_token}, site='stackoverflow', key=key, order ='desc', sort='votes', fromdate=start_date_epoch, todate=end_date_epoch)\n",
    "# df.shape[0]\n",
    "\n",
    "\n",
    "\n",
    "\n"
   ]
  },
  {
   "cell_type": "code",
   "execution_count": 4,
   "id": "b5b1b082",
   "metadata": {},
   "outputs": [
    {
     "data": {
      "text/html": [
       "<div>\n",
       "<style scoped>\n",
       "    .dataframe tbody tr th:only-of-type {\n",
       "        vertical-align: middle;\n",
       "    }\n",
       "\n",
       "    .dataframe tbody tr th {\n",
       "        vertical-align: top;\n",
       "    }\n",
       "\n",
       "    .dataframe thead th {\n",
       "        text-align: right;\n",
       "    }\n",
       "</style>\n",
       "<table border=\"1\" class=\"dataframe\">\n",
       "  <thead>\n",
       "    <tr style=\"text-align: right;\">\n",
       "      <th></th>\n",
       "      <th>post_id</th>\n",
       "      <th>count</th>\n",
       "    </tr>\n",
       "  </thead>\n",
       "  <tbody>\n",
       "    <tr>\n",
       "      <th>3438</th>\n",
       "      <td>75125270</td>\n",
       "      <td>23</td>\n",
       "    </tr>\n",
       "    <tr>\n",
       "      <th>4481</th>\n",
       "      <td>75128186</td>\n",
       "      <td>20</td>\n",
       "    </tr>\n",
       "    <tr>\n",
       "      <th>4854</th>\n",
       "      <td>75129200</td>\n",
       "      <td>19</td>\n",
       "    </tr>\n",
       "    <tr>\n",
       "      <th>3319</th>\n",
       "      <td>75124916</td>\n",
       "      <td>18</td>\n",
       "    </tr>\n",
       "    <tr>\n",
       "      <th>4095</th>\n",
       "      <td>75127160</td>\n",
       "      <td>16</td>\n",
       "    </tr>\n",
       "    <tr>\n",
       "      <th>...</th>\n",
       "      <td>...</td>\n",
       "      <td>...</td>\n",
       "    </tr>\n",
       "    <tr>\n",
       "      <th>1811</th>\n",
       "      <td>75110887</td>\n",
       "      <td>1</td>\n",
       "    </tr>\n",
       "    <tr>\n",
       "      <th>1810</th>\n",
       "      <td>75110852</td>\n",
       "      <td>1</td>\n",
       "    </tr>\n",
       "    <tr>\n",
       "      <th>1809</th>\n",
       "      <td>75110754</td>\n",
       "      <td>1</td>\n",
       "    </tr>\n",
       "    <tr>\n",
       "      <th>1808</th>\n",
       "      <td>75110719</td>\n",
       "      <td>1</td>\n",
       "    </tr>\n",
       "    <tr>\n",
       "      <th>2737</th>\n",
       "      <td>75122994</td>\n",
       "      <td>1</td>\n",
       "    </tr>\n",
       "  </tbody>\n",
       "</table>\n",
       "<p>5475 rows × 2 columns</p>\n",
       "</div>"
      ],
      "text/plain": [
       "       post_id  count\n",
       "3438  75125270     23\n",
       "4481  75128186     20\n",
       "4854  75129200     19\n",
       "3319  75124916     18\n",
       "4095  75127160     16\n",
       "...        ...    ...\n",
       "1811  75110887      1\n",
       "1810  75110852      1\n",
       "1809  75110754      1\n",
       "1808  75110719      1\n",
       "2737  75122994      1\n",
       "\n",
       "[5475 rows x 2 columns]"
      ]
     },
     "execution_count": 4,
     "metadata": {},
     "output_type": "execute_result"
    }
   ],
   "source": [
    "df_new = df.groupby(['post_id'])['post_id'].count() \\\n",
    "                             .reset_index(name='count') \\\n",
    "                             .sort_values(['count'], ascending=False)\n",
    "df_new"
   ]
  },
  {
   "cell_type": "code",
   "execution_count": 5,
   "id": "81459ec8",
   "metadata": {},
   "outputs": [
    {
     "data": {
      "text/plain": [
       "75125270"
      ]
     },
     "execution_count": 5,
     "metadata": {},
     "output_type": "execute_result"
    }
   ],
   "source": [
    "df_new.iloc[0]['post_id']"
   ]
  },
  {
   "cell_type": "code",
   "execution_count": 6,
   "id": "7af06d1a",
   "metadata": {},
   "outputs": [],
   "source": [
    "\n",
    "df = await dc.query('search', _count=1, _auth={'access_token': access_token}, q='inquestion:'+str(df_new.iloc[0]['post_id']) ,site='stackoverflow', key=key, order ='desc', sort='votes')\n"
   ]
  },
  {
   "cell_type": "code",
   "execution_count": 33,
   "id": "573becd2",
   "metadata": {},
   "outputs": [
    {
     "name": "stdout",
     "output_type": "stream",
     "text": [
      "The most discussed topics on 15th Jan 2023 are c++, constructor, move, copy-constructor, move-constructor and the question was Can you design a constructor to allow `Class c(std::move(another_class))` when the class has a member of type const std::unique_ptr?\n"
     ]
    }
   ],
   "source": [
    "tags = ', '.join(df.iloc[0][ \"tags\"])\n",
    "title = df.iloc[0][ \"title\"]\n",
    "print(\"The most discussed topics on 15th Jan 2023 are [\"+tags+ \"] and the question was \"+title)\n",
    "    "
   ]
  },
  {
   "cell_type": "code",
   "execution_count": null,
   "id": "2076c244",
   "metadata": {},
   "outputs": [],
   "source": []
  }
 ],
 "metadata": {
  "kernelspec": {
   "display_name": "Python 3 (ipykernel)",
   "language": "python",
   "name": "python3"
  },
  "language_info": {
   "codemirror_mode": {
    "name": "ipython",
    "version": 3
   },
   "file_extension": ".py",
   "mimetype": "text/x-python",
   "name": "python",
   "nbconvert_exporter": "python",
   "pygments_lexer": "ipython3",
   "version": "3.9.13"
  },
  "vscode": {
   "interpreter": {
    "hash": "b0fa6594d8f4cbf19f97940f81e996739fb7646882a419484c72d19e05852a7e"
   }
  }
 },
 "nbformat": 4,
 "nbformat_minor": 5
}
