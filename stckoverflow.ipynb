{
 "cells": [
  {
   "cell_type": "markdown",
   "id": "3f6f571d",
   "metadata": {},
   "source": [
    "**Question**\n",
    "\n",
    "Which topic was most discussed on 15th Jan 2023 and what was the question?"
   ]
  },
  {
   "cell_type": "code",
   "execution_count": 3,
   "id": "ea7ccc71",
   "metadata": {},
   "outputs": [],
   "source": [
    "from dataprep.connector import connect\n",
    "import datetime\n",
    "\n",
    "access_token = 'k2Xs7Y3PiAyLavEnBm76rg))'\n",
    "key = \"RcpYF1iaC73L1h4MleRkAQ((\"\n",
    "\n",
    "dc = connect('./config', _concurrency=20)"
   ]
  },
  {
   "cell_type": "code",
   "execution_count": 2,
   "id": "3eec7d3b",
   "metadata": {
    "scrolled": true
   },
   "outputs": [
    {
     "name": "stdout",
     "output_type": "stream",
     "text": [
      "The most discussed topics on 15th Jan 2023 are [vb.net, ini] and the question was {How to pass parameters to vb.net menu form at run time}\n"
     ]
    }
   ],
   "source": [
    "start_date_epoch = datetime.datetime(2023, 1, 15, 0, 0, 0).strftime('%s')\n",
    "end_date_epoch = datetime.datetime(2023, 1, 16, 0, 0, 0).strftime('%s')\n",
    "\n",
    "comments_df = await dc.query('comments', _count=1000000, _auth={'access_token': access_token}, site='stackoverflow', key=key, sort='votes', fromdate=start_date_epoch, todate=end_date_epoch)\n",
    "\n",
    "aggregated_comments_df = comments_df.groupby(['post_id'])['post_id'].count() \\\n",
    "                             .reset_index(name='count') \\\n",
    "                             .sort_values(['count'], ascending=False)\n",
    "\n",
    "question_df = await dc.query('search', _count=1, _auth={'access_token': access_token}, q='inquestion:'+str(aggregated_comments_df.iloc[0]['post_id']) ,site='stackoverflow', key=key, order ='desc', sort='votes')\n",
    "tags = ', '.join(question_df.iloc[0][ \"tags\"])\n",
    "title = question_df.iloc[0][ \"title\"]\n",
    "print(\"The most discussed topics on 15th Jan 2023 are [\"+tags+ \"] and the question was {\"+title+\"}\")\n"
   ]
  },
  {
   "cell_type": "code",
   "execution_count": null,
   "id": "2076c244",
   "metadata": {},
   "outputs": [],
   "source": []
  }
 ],
 "metadata": {
  "kernelspec": {
   "display_name": "Python 3 (ipykernel)",
   "language": "python",
   "name": "python3"
  },
  "language_info": {
   "codemirror_mode": {
    "name": "ipython",
    "version": 3
   },
   "file_extension": ".py",
   "mimetype": "text/x-python",
   "name": "python",
   "nbconvert_exporter": "python",
   "pygments_lexer": "ipython3",
   "version": "3.9.13"
  },
  "vscode": {
   "interpreter": {
    "hash": "b0fa6594d8f4cbf19f97940f81e996739fb7646882a419484c72d19e05852a7e"
   }
  }
 },
 "nbformat": 4,
 "nbformat_minor": 5
}
